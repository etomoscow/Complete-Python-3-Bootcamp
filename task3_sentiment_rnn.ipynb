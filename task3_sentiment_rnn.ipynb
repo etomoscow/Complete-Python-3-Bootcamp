{
  "nbformat": 4,
  "nbformat_minor": 0,
  "metadata": {
    "kernelspec": {
      "name": "python3",
      "display_name": "Python 3"
    },
    "language_info": {
      "codemirror_mode": {
        "name": "ipython",
        "version": 3
      },
      "file_extension": ".py",
      "mimetype": "text/x-python",
      "name": "python",
      "nbconvert_exporter": "python",
      "pygments_lexer": "ipython3",
      "version": "3.6.9"
    },
    "colab": {
      "name": "task3_sentiment_rnn.ipynb",
      "provenance": [],
      "collapsed_sections": [],
      "include_colab_link": true
    },
    "accelerator": "GPU"
  },
  "cells": [
    {
      "cell_type": "markdown",
      "metadata": {
        "id": "view-in-github",
        "colab_type": "text"
      },
      "source": [
        "<a href=\"https://colab.research.google.com/github/etomoscow/Complete-Python-3-Bootcamp/blob/master/task3_sentiment_rnn.ipynb\" target=\"_parent\"><img src=\"https://colab.research.google.com/assets/colab-badge.svg\" alt=\"Open In Colab\"/></a>"
      ]
    },
    {
      "cell_type": "markdown",
      "metadata": {
        "id": "uaZ_Hu55nKnN",
        "colab_type": "text"
      },
      "source": [
        "## Assignment 2.3: Text classification via RNN (30 points)"
      ]
    },
    {
      "cell_type": "markdown",
      "metadata": {
        "id": "8qKsSbI4nKnO",
        "colab_type": "text"
      },
      "source": [
        "In this assignment you will perform sentiment analysis of the IMDBs reviews by using RNN. An additional goal is to learn high abstactions of the **torchtext** module that consists of data processing utilities and popular datasets for natural language."
      ]
    },
    {
      "cell_type": "code",
      "metadata": {
        "id": "_qXAer64nKnP",
        "colab_type": "code",
        "colab": {}
      },
      "source": [
        "import pandas as pd\n",
        "import numpy as np\n",
        "import torch, random, re\n",
        "\n",
        "from torchtext import datasets\n",
        "\n",
        "from torchtext.data import Field, LabelField\n",
        "from torchtext.data import BucketIterator\n",
        "from torch.autograd import Variable\n",
        "\n",
        "import torch.nn as nn\n",
        "import torch.nn.functional as F\n",
        "import torch.optim as optim\n",
        "\n",
        "\n",
        "SEED = 42\n",
        "random.seed(SEED)\n",
        "np.random.seed(SEED)\n",
        "torch.manual_seed(SEED)\n",
        "torch.backends.cudnn.deterministic = True"
      ],
      "execution_count": 0,
      "outputs": []
    },
    {
      "cell_type": "markdown",
      "metadata": {
        "id": "O7Q8cgUenKnU",
        "colab_type": "text"
      },
      "source": [
        "### Preparing Data"
      ]
    },
    {
      "cell_type": "code",
      "metadata": {
        "id": "viDxfSYonKnV",
        "colab_type": "code",
        "colab": {}
      },
      "source": [
        "TEXT = Field(sequential=True, lower=True)\n",
        "LABEL = LabelField()"
      ],
      "execution_count": 0,
      "outputs": []
    },
    {
      "cell_type": "code",
      "metadata": {
        "id": "fWlzav3unKnZ",
        "colab_type": "code",
        "colab": {}
      },
      "source": [
        "train, tst = datasets.IMDB.splits(TEXT, LABEL)\n",
        "trn, vld = train.split()"
      ],
      "execution_count": 0,
      "outputs": []
    },
    {
      "cell_type": "code",
      "metadata": {
        "id": "EHvxzDatnKnd",
        "colab_type": "code",
        "outputId": "3807d774-f376-44f2-808b-70ff44c1a0f9",
        "colab": {
          "base_uri": "https://localhost:8080/",
          "height": 51
        }
      },
      "source": [
        "%%time\n",
        "TEXT.build_vocab(trn)"
      ],
      "execution_count": 20,
      "outputs": [
        {
          "output_type": "stream",
          "text": [
            "CPU times: user 1.35 s, sys: 20 ms, total: 1.37 s\n",
            "Wall time: 1.38 s\n"
          ],
          "name": "stdout"
        }
      ]
    },
    {
      "cell_type": "code",
      "metadata": {
        "id": "84DN1eiinKng",
        "colab_type": "code",
        "colab": {}
      },
      "source": [
        "LABEL.build_vocab(trn)"
      ],
      "execution_count": 0,
      "outputs": []
    },
    {
      "cell_type": "markdown",
      "metadata": {
        "id": "v76L-2FJnKnj",
        "colab_type": "text"
      },
      "source": [
        "The vocab.freqs is a collections.Counter object, so we can take a look at the most frequent words."
      ]
    },
    {
      "cell_type": "code",
      "metadata": {
        "id": "ARfRVsKjnKnk",
        "colab_type": "code",
        "outputId": "288271a8-e0a4-4f7c-f00d-90ab1c0303e2",
        "colab": {
          "base_uri": "https://localhost:8080/",
          "height": 187
        }
      },
      "source": [
        "TEXT.vocab.freqs.most_common(10)"
      ],
      "execution_count": 22,
      "outputs": [
        {
          "output_type": "execute_result",
          "data": {
            "text/plain": [
              "[('the', 226137),\n",
              " ('a', 112652),\n",
              " ('and', 111396),\n",
              " ('of', 101661),\n",
              " ('to', 93954),\n",
              " ('is', 72780),\n",
              " ('in', 63451),\n",
              " ('i', 49418),\n",
              " ('this', 48748),\n",
              " ('that', 46274)]"
            ]
          },
          "metadata": {
            "tags": []
          },
          "execution_count": 22
        }
      ]
    },
    {
      "cell_type": "markdown",
      "metadata": {
        "id": "UImUaZhTnKno",
        "colab_type": "text"
      },
      "source": [
        "### Creating the Iterator (2 points)"
      ]
    },
    {
      "cell_type": "markdown",
      "metadata": {
        "id": "0xpxqXO3nKnp",
        "colab_type": "text"
      },
      "source": [
        "During training, we'll be using a special kind of Iterator, called the **BucketIterator**. When we pass data into a neural network, we want the data to be padded to be the same length so that we can process them in batch:\n",
        "\n",
        "e.g.\n",
        "\\[ \n",
        "\\[3, 15, 2, 7\\],\n",
        "\\[4, 1\\], \n",
        "\\[5, 5, 6, 8, 1\\] \n",
        "\\] -> \\[ \n",
        "\\[3, 15, 2, 7, **0**\\],\n",
        "\\[4, 1, **0**, **0**, **0**\\], \n",
        "\\[5, 5, 6, 8, 1\\] \n",
        "\\] \n",
        "\n",
        "If the sequences differ greatly in length, the padding will consume a lot of wasteful memory and time. The BucketIterator groups sequences of similar lengths together for each batch to minimize padding.\n",
        "\n",
        "Complete the definition of the **BucketIterator** object"
      ]
    },
    {
      "cell_type": "code",
      "metadata": {
        "id": "gDuXQ3NcnKnq",
        "colab_type": "code",
        "colab": {}
      },
      "source": [
        "train_iter, val_iter, test_iter = BucketIterator.splits(\n",
        "        (trn, vld, tst),\n",
        "        batch_sizes=(64, 64, 64),\n",
        "        sort=False,\n",
        "        sort_key= lambda x: len(x[0]),# write your code here\n",
        "        sort_within_batch=False,\n",
        "        device='cuda',\n",
        "        repeat=False\n",
        ")"
      ],
      "execution_count": 0,
      "outputs": []
    },
    {
      "cell_type": "markdown",
      "metadata": {
        "id": "EeqrXOYNnKns",
        "colab_type": "text"
      },
      "source": [
        "Let's take a look at what the output of the BucketIterator looks like. Do not be suprised **batch_first=True**"
      ]
    },
    {
      "cell_type": "code",
      "metadata": {
        "id": "gxgnqbDWnKnt",
        "colab_type": "code",
        "outputId": "53e84029-4eb6-496a-f062-d3ad6ee754a9",
        "colab": {
          "base_uri": "https://localhost:8080/",
          "height": 136
        }
      },
      "source": [
        "batch = next(train_iter.__iter__()); batch.text"
      ],
      "execution_count": 24,
      "outputs": [
        {
          "output_type": "execute_result",
          "data": {
            "text/plain": [
              "tensor([[    9,     9,  1296,  ...,     9, 56388,    16],\n",
              "        [  152,   200,    24,  ...,   274,     7,     3],\n",
              "        [   12,    10,    43,  ..., 13787, 61799,    85],\n",
              "        ...,\n",
              "        [    1,     1,     1,  ...,     1,     1,     1],\n",
              "        [    1,     1,     1,  ...,     1,     1,     1],\n",
              "        [    1,     1,     1,  ...,     1,     1,     1]], device='cuda:0')"
            ]
          },
          "metadata": {
            "tags": []
          },
          "execution_count": 24
        }
      ]
    },
    {
      "cell_type": "markdown",
      "metadata": {
        "id": "8jFsnnQjnKnw",
        "colab_type": "text"
      },
      "source": [
        "The batch has all the fields we passed to the Dataset as attributes. The batch data can be accessed through the attribute with the same name."
      ]
    },
    {
      "cell_type": "code",
      "metadata": {
        "id": "5ww7wsBBnKnx",
        "colab_type": "code",
        "outputId": "eebb98bf-ffaf-4a9e-f044-a0f54a56642a",
        "colab": {
          "base_uri": "https://localhost:8080/",
          "height": 34
        }
      },
      "source": [
        "batch.__dict__.keys()"
      ],
      "execution_count": 25,
      "outputs": [
        {
          "output_type": "execute_result",
          "data": {
            "text/plain": [
              "dict_keys(['batch_size', 'dataset', 'fields', 'input_fields', 'target_fields', 'text', 'label'])"
            ]
          },
          "metadata": {
            "tags": []
          },
          "execution_count": 25
        }
      ]
    },
    {
      "cell_type": "markdown",
      "metadata": {
        "id": "AUY-eIBJnKn0",
        "colab_type": "text"
      },
      "source": [
        "### Define the RNN-based text classification model (10 points)"
      ]
    },
    {
      "cell_type": "markdown",
      "metadata": {
        "id": "eseS-_GdnKn0",
        "colab_type": "text"
      },
      "source": [
        "Start simple first. Implement the model according to the shema below.  \n",
        "![alt text](https://miro.medium.com/max/1396/1*v-tLYQCsni550A-hznS0mw.jpeg)\n"
      ]
    },
    {
      "cell_type": "code",
      "metadata": {
        "id": "R0m7RGCUyGlg",
        "colab_type": "code",
        "colab": {
          "base_uri": "https://localhost:8080/",
          "height": 51
        },
        "outputId": "53746c24-2e16-4a3c-8f62-6672222f25d4"
      },
      "source": [
        "eee = nn.Embedding(len(TEXT.vocab), 200)\n",
        "a1 = eee(batch.text.permute(1,0))\n",
        "gru = nn.GRU(200, 300, bidirectional=True, batch_first=True)\n",
        "print(a1.shape)\n",
        "_, a2 = gru(a1)\n",
        "print(a2.shape)\n",
        "lin = nn.Linear(300, 2)\n",
        "a3 = lin(a2[-1])\n",
        "a4 = F.log_softmax(a3, dim=1)\n"
      ],
      "execution_count": 66,
      "outputs": [
        {
          "output_type": "stream",
          "text": [
            "torch.Size([64, 985, 200])\n",
            "torch.Size([2, 64, 300])\n"
          ],
          "name": "stdout"
        }
      ]
    },
    {
      "cell_type": "code",
      "metadata": {
        "id": "XUO1Tsnx_Iyg",
        "colab_type": "code",
        "outputId": "741178d1-cf34-4825-d66b-853bd701f3a1",
        "colab": {
          "base_uri": "https://localhost:8080/",
          "height": 136
        }
      },
      "source": [
        "batch.text"
      ],
      "execution_count": 40,
      "outputs": [
        {
          "output_type": "execute_result",
          "data": {
            "text/plain": [
              "tensor([[    9,     9,  1296,  ...,     9, 56388,    16],\n",
              "        [  152,   200,    24,  ...,   274,     7,     3],\n",
              "        [   12,    10,    43,  ..., 13787, 61799,    85],\n",
              "        ...,\n",
              "        [    1,     1,     1,  ...,     1,     1,     1],\n",
              "        [    1,     1,     1,  ...,     1,     1,     1],\n",
              "        [    1,     1,     1,  ...,     1,     1,     1]], device='cuda:0')"
            ]
          },
          "metadata": {
            "tags": []
          },
          "execution_count": 40
        }
      ]
    },
    {
      "cell_type": "code",
      "metadata": {
        "id": "w7FO-VS7rK6j",
        "colab_type": "code",
        "colab": {
          "base_uri": "https://localhost:8080/",
          "height": 34
        },
        "outputId": "69a0f4a9-301d-458d-e496-f6ef5f31c233"
      },
      "source": [
        "batch.label.view(-1).shape"
      ],
      "execution_count": 57,
      "outputs": [
        {
          "output_type": "execute_result",
          "data": {
            "text/plain": [
              "torch.Size([64])"
            ]
          },
          "metadata": {
            "tags": []
          },
          "execution_count": 57
        }
      ]
    },
    {
      "cell_type": "code",
      "metadata": {
        "id": "U2XJW9WqrT49",
        "colab_type": "code",
        "colab": {
          "base_uri": "https://localhost:8080/",
          "height": 34
        },
        "outputId": "7b0a0bdf-3fe4-4bad-e5d3-2275775b0e62"
      },
      "source": [
        "a4.view(-1, 64).shape"
      ],
      "execution_count": 60,
      "outputs": [
        {
          "output_type": "execute_result",
          "data": {
            "text/plain": [
              "torch.Size([1, 64])"
            ]
          },
          "metadata": {
            "tags": []
          },
          "execution_count": 60
        }
      ]
    },
    {
      "cell_type": "code",
      "metadata": {
        "id": "vVStuBpF6CVG",
        "colab_type": "code",
        "outputId": "a90630be-f84e-4016-c79b-f05dd69d30fe",
        "colab": {
          "base_uri": "https://localhost:8080/",
          "height": 34
        }
      },
      "source": [
        "loss_func(a4, batch.label)"
      ],
      "execution_count": 71,
      "outputs": [
        {
          "output_type": "execute_result",
          "data": {
            "text/plain": [
              "tensor(45.3183, grad_fn=<NllLossBackward>)"
            ]
          },
          "metadata": {
            "tags": []
          },
          "execution_count": 71
        }
      ]
    },
    {
      "cell_type": "code",
      "metadata": {
        "id": "r72h5wzxnKn1",
        "colab_type": "code",
        "colab": {}
      },
      "source": [
        "class RNNBaseline(nn.Module):\n",
        "    def __init__(self, hidden_dim, emb_dim, vocab_size):\n",
        "        super().__init__()\n",
        "\n",
        "        self.hidden_dim = hidden_dim\n",
        "        self.emb_dim = emb_dim\n",
        "        self.vocab_size = vocab_size\n",
        "\n",
        "        self.encoder = nn.Embedding(vocab_size, emb_dim)\n",
        "        self.gru = nn.GRU(emb_dim, hidden_dim, bidirectional=True, batch_first=True, dropout=0.1)\n",
        "        self.decoder = nn.Linear(hidden_dim, 2)\n",
        "\n",
        "    def forward(self, seq):\n",
        "        embs = self.encoder(seq.permute(1,0))\n",
        "        out, hidden = self.gru(embs)\n",
        "        out = self.decoder(hidden[-1])\n",
        "        preds = F.log_softmax(out, dim=1)\n",
        "        return preds"
      ],
      "execution_count": 0,
      "outputs": []
    },
    {
      "cell_type": "code",
      "metadata": {
        "id": "hGPkZKS4nKn6",
        "colab_type": "code",
        "outputId": "c060f1f3-0992-42de-a309-2e8015be9318",
        "colab": {
          "base_uri": "https://localhost:8080/",
          "height": 156
        }
      },
      "source": [
        "em_sz = 200\n",
        "nh = 300\n",
        "model = RNNBaseline(hidden_dim = nh, emb_dim=em_sz, vocab_size=len(TEXT.vocab)); model"
      ],
      "execution_count": 27,
      "outputs": [
        {
          "output_type": "stream",
          "text": [
            "/usr/local/lib/python3.6/dist-packages/torch/nn/modules/rnn.py:50: UserWarning: dropout option adds dropout after all but last recurrent layer, so non-zero dropout expects num_layers greater than 1, but got dropout=0.1 and num_layers=1\n",
            "  \"num_layers={}\".format(dropout, num_layers))\n"
          ],
          "name": "stderr"
        },
        {
          "output_type": "execute_result",
          "data": {
            "text/plain": [
              "RNNBaseline(\n",
              "  (encoder): Embedding(202690, 200)\n",
              "  (gru): GRU(200, 300, batch_first=True, dropout=0.1, bidirectional=True)\n",
              "  (decoder): Linear(in_features=300, out_features=2, bias=True)\n",
              ")"
            ]
          },
          "metadata": {
            "tags": []
          },
          "execution_count": 27
        }
      ]
    },
    {
      "cell_type": "markdown",
      "metadata": {
        "id": "mENKjcYInKn9",
        "colab_type": "text"
      },
      "source": [
        "If you're using a GPU, remember to call model.cuda() to move your model to the GPU."
      ]
    },
    {
      "cell_type": "code",
      "metadata": {
        "id": "Hxn-YJufnKn9",
        "colab_type": "code",
        "outputId": "57848e8a-3464-470b-9972-9572044592d3",
        "colab": {
          "base_uri": "https://localhost:8080/",
          "height": 102
        }
      },
      "source": [
        "model.cuda()"
      ],
      "execution_count": 28,
      "outputs": [
        {
          "output_type": "execute_result",
          "data": {
            "text/plain": [
              "RNNBaseline(\n",
              "  (encoder): Embedding(202690, 200)\n",
              "  (gru): GRU(200, 300, batch_first=True, dropout=0.1, bidirectional=True)\n",
              "  (decoder): Linear(in_features=300, out_features=2, bias=True)\n",
              ")"
            ]
          },
          "metadata": {
            "tags": []
          },
          "execution_count": 28
        }
      ]
    },
    {
      "cell_type": "markdown",
      "metadata": {
        "id": "LpTFiLDgnKoB",
        "colab_type": "text"
      },
      "source": [
        "### The training loop (3 points)"
      ]
    },
    {
      "cell_type": "markdown",
      "metadata": {
        "id": "LMiE3IBynKoB",
        "colab_type": "text"
      },
      "source": [
        "Define the optimization and the loss functions."
      ]
    },
    {
      "cell_type": "code",
      "metadata": {
        "id": "QVZ9mUjlnKoC",
        "colab_type": "code",
        "colab": {}
      },
      "source": [
        "opt = torch.optim.Adam(model.parameters(), lr=0.001)\n",
        "loss_func = nn.NLLLoss(reduction='sum')"
      ],
      "execution_count": 0,
      "outputs": []
    },
    {
      "cell_type": "markdown",
      "metadata": {
        "id": "5HCqd4psnKoF",
        "colab_type": "text"
      },
      "source": [
        "Define the stopping criteria."
      ]
    },
    {
      "cell_type": "code",
      "metadata": {
        "id": "xMBjlDDKnKoF",
        "colab_type": "code",
        "colab": {}
      },
      "source": [
        "epochs = 4"
      ],
      "execution_count": 0,
      "outputs": []
    },
    {
      "cell_type": "code",
      "metadata": {
        "id": "FzmMiroonKoJ",
        "colab_type": "code",
        "outputId": "b6b17dc5-d009-4398-e262-f584eaac10dc",
        "colab": {
          "base_uri": "https://localhost:8080/",
          "height": 119
        }
      },
      "source": [
        "%%time\n",
        "losses_train, losses_val = [], []\n",
        "for epoch in range(1, epochs + 1):\n",
        "    running_loss = 0.0\n",
        "    running_corrects = 0\n",
        "    model.train() \n",
        "    for batch in train_iter: \n",
        "        \n",
        "        x = batch.text\n",
        "        y = batch.label\n",
        "        opt.zero_grad()\n",
        "        preds = model(x)   \n",
        "        loss = loss_func(preds, y)\n",
        "        loss.backward()\n",
        "        opt.step()\n",
        "        running_loss += loss.item()\n",
        "\n",
        "    epoch_loss = running_loss / len(trn)\n",
        "    losses_train.append(epoch_loss)\n",
        "\n",
        "    val_loss = 0.0\n",
        "    model.eval()\n",
        "    for batch in val_iter:\n",
        "        with torch.no_grad():    \n",
        "            x = batch.text\n",
        "            y = batch.label\n",
        "        \n",
        "            preds = model(x) \n",
        "            loss = loss_func(preds, y)\n",
        "            val_loss += loss.item()\n",
        "    val_loss /= len(vld)\n",
        "    losses_val.append(val_loss)\n",
        "    print('Epoch: {}, Training Loss: {}, Validation Loss: {}'.format(epoch, epoch_loss, val_loss))"
      ],
      "execution_count": 31,
      "outputs": [
        {
          "output_type": "stream",
          "text": [
            "Epoch: 1, Training Loss: 0.6743435710362026, Validation Loss: 0.6672407302856446\n",
            "Epoch: 2, Training Loss: 0.4681660703931536, Validation Loss: 0.36586676336924234\n",
            "Epoch: 3, Training Loss: 0.220407094846453, Validation Loss: 0.3356243138631185\n",
            "Epoch: 4, Training Loss: 0.0738578828573227, Validation Loss: 0.45916076018015545\n",
            "CPU times: user 3min 26s, sys: 1min 31s, total: 4min 58s\n",
            "Wall time: 5min 1s\n"
          ],
          "name": "stdout"
        }
      ]
    },
    {
      "cell_type": "code",
      "metadata": {
        "id": "hocOmddgYHM5",
        "colab_type": "code",
        "outputId": "77951fdc-35ec-49a7-871c-f517360afc20",
        "colab": {
          "base_uri": "https://localhost:8080/",
          "height": 501
        }
      },
      "source": [
        "import matplotlib.pyplot as plt\n",
        "\n",
        "plt.figure(figsize=(12,8))\n",
        "plt.plot(losses_train, label='train')\n",
        "plt.plot(losses_val, label='val')\n",
        "plt.legend(loc='best')"
      ],
      "execution_count": 33,
      "outputs": [
        {
          "output_type": "execute_result",
          "data": {
            "text/plain": [
              "<matplotlib.legend.Legend at 0x7f1dd7143d68>"
            ]
          },
          "metadata": {
            "tags": []
          },
          "execution_count": 33
        },
        {
          "output_type": "display_data",
          "data": {
            "image/png": "[encoded data removed]",
            "text/plain": [
              "<Figure size 864x576 with 1 Axes>"
            ]
          },
          "metadata": {
            "tags": []
          }
        }
      ]
    },
    {
      "cell_type": "code",
      "metadata": {
        "id": "EQPyRr8xHAPw",
        "colab_type": "code",
        "colab": {}
      },
      "source": [
        "def binary_acc(y_pred, y_test):\n",
        "    y_pred_tag = torch.round(torch.sigmoid(y_pred))\n",
        "\n",
        "    correct_results_sum = (y_pred_tag == y_test).sum().float()\n",
        "    acc = correct_results_sum/y_test.shape[0]\n",
        "    acc = torch.round(acc * 100)\n",
        "    \n",
        "    return acc"
      ],
      "execution_count": 0,
      "outputs": []
    },
    {
      "cell_type": "markdown",
      "metadata": {
        "id": "hFVpsFr7nKoM",
        "colab_type": "text"
      },
      "source": [
        "### Calculate performance of the trained model (5 points)"
      ]
    },
    {
      "cell_type": "code",
      "metadata": {
        "id": "f5bWetWfHAdw",
        "colab_type": "code",
        "colab": {}
      },
      "source": [
        "from sklearn.metrics import f1_score, accuracy_score, precision_score, recall_score"
      ],
      "execution_count": 0,
      "outputs": []
    },
    {
      "cell_type": "code",
      "metadata": {
        "id": "TrN9eyzlItYE",
        "colab_type": "code",
        "colab": {}
      },
      "source": [
        "model.eval()\n",
        "out = model(x)"
      ],
      "execution_count": 0,
      "outputs": []
    },
    {
      "cell_type": "code",
      "metadata": {
        "id": "YmjitAd_U0F1",
        "colab_type": "code",
        "colab": {
          "base_uri": "https://localhost:8080/",
          "height": 34
        },
        "outputId": "d76771ef-e2cd-4179-e8a1-662291f1887e"
      },
      "source": [
        "y.shape"
      ],
      "execution_count": 50,
      "outputs": [
        {
          "output_type": "execute_result",
          "data": {
            "text/plain": [
              "torch.Size([64])"
            ]
          },
          "metadata": {
            "tags": []
          },
          "execution_count": 50
        }
      ]
    },
    {
      "cell_type": "code",
      "metadata": {
        "id": "zTErdqMEUGwk",
        "colab_type": "code",
        "colab": {
          "base_uri": "https://localhost:8080/",
          "height": 170
        },
        "outputId": "70bfd890-e373-44c3-d71a-638d34acd186"
      },
      "source": [
        "torch.sum(out, dim=1)"
      ],
      "execution_count": 51,
      "outputs": [
        {
          "output_type": "execute_result",
          "data": {
            "text/plain": [
              "tensor([-2.3177, -1.4487, -1.4405, -1.6616, -1.9654, -5.1076, -2.0721, -1.5094,\n",
              "        -5.2870, -6.6379, -1.6414, -1.9994, -2.4844, -5.0654, -4.6089, -1.5533,\n",
              "        -6.7269, -3.0579, -5.5314, -4.8156, -4.3783, -1.7586, -4.2711, -1.3958,\n",
              "        -2.7309, -1.3973, -2.8863, -3.5332, -4.0090, -2.4665, -2.8962, -5.1323,\n",
              "        -1.4088, -4.4043, -3.2394, -5.3120, -1.9790, -1.4586, -3.6558, -2.9591,\n",
              "        -2.5511, -4.7409, -3.9692, -4.6208, -6.4511, -6.6989, -2.7331, -1.9582,\n",
              "        -5.6173, -1.6108, -6.5814, -3.8957, -5.4330, -2.7869, -3.8279, -3.2927,\n",
              "        -1.5505, -1.3979, -2.2404, -3.6215, -5.2835, -2.3191, -4.5534, -6.7493],\n",
              "       device='cuda:0', grad_fn=<SumBackward1>)"
            ]
          },
          "metadata": {
            "tags": []
          },
          "execution_count": 51
        }
      ]
    },
    {
      "cell_type": "code",
      "metadata": {
        "id": "oeRv4ut3IMw-",
        "colab_type": "code",
        "colab": {
          "base_uri": "https://localhost:8080/",
          "height": 221
        },
        "outputId": "c0fdc1b1-2be0-4ac2-d605-1f82ad699893"
      },
      "source": [
        "torch.round(torch.sigmoid(out))"
      ],
      "execution_count": 41,
      "outputs": [
        {
          "output_type": "execute_result",
          "data": {
            "text/plain": [
              "tensor([[0., 0.],\n",
              "        [0., 0.],\n",
              "        [0., 0.],\n",
              "        [0., 0.],\n",
              "        [0., 0.],\n",
              "        [0., 0.],\n",
              "        [0., 0.],\n",
              "        [0., 0.],\n",
              "        [0., 0.],\n",
              "        [0., 0.],\n",
              "        [0., 0.],\n",
              "        [0., 0.]], device='cuda:0', grad_fn=<RoundBackward>)"
            ]
          },
          "metadata": {
            "tags": []
          },
          "execution_count": 41
        }
      ]
    },
    {
      "cell_type": "code",
      "metadata": {
        "id": "x0ymPwgmnKoN",
        "colab_type": "code",
        "colab": {}
      },
      "source": [
        "for batch in test_iter:\n",
        "    acc = []\n",
        "    x = batch.text\n",
        "    y = batch.label\n",
        "    break"
      ],
      "execution_count": 0,
      "outputs": []
    },
    {
      "cell_type": "markdown",
      "metadata": {
        "id": "TvaC-brBnKoQ",
        "colab_type": "text"
      },
      "source": [
        "Write down the calculated performance\n",
        "\n",
        "### Accuracy:\n",
        "### Precision:\n",
        "### Recall:\n",
        "### F1:"
      ]
    },
    {
      "cell_type": "markdown",
      "metadata": {
        "id": "YsLfKVMlnKoR",
        "colab_type": "text"
      },
      "source": [
        "### Experiments (10 points)\n",
        "\n",
        "Experiment with the model and achieve better results. You can find advices [here](https://arxiv.org/abs/1801.06146). Implement and describe your experiments in details, mention what was helpful."
      ]
    },
    {
      "cell_type": "markdown",
      "metadata": {
        "id": "3Db-E9RbnKoR",
        "colab_type": "text"
      },
      "source": [
        "### 1. ?\n",
        "### 2. ?\n",
        "### 3. ?"
      ]
    },
    {
      "cell_type": "code",
      "metadata": {
        "id": "GT17qOLb5bAt",
        "colab_type": "code",
        "colab": {}
      },
      "source": [
        ""
      ],
      "execution_count": 0,
      "outputs": []
    }
  ]
}